{
 "cells": [
  {
   "cell_type": "code",
   "execution_count": 1,
   "metadata": {},
   "outputs": [],
   "source": [
    "import glob\n",
    "import os\n",
    "import pandas as pd\n",
    "import openpyxl\n",
    "from openpyxl import Workbook\n",
    "from openpyxl import load_workbook\n",
    "import xlsxwriter"
   ]
  },
  {
   "cell_type": "code",
   "execution_count": 3,
   "metadata": {},
   "outputs": [
    {
     "name": "stdout",
     "output_type": "stream",
     "text": [
      "File Path Bewertungen: C:\\Users\\VHZYHDG\\Desktop\\Excel_Splitter_Combiner\\Auto\\\n"
     ]
    }
   ],
   "source": [
    "file=input('File Path Bewertungen: ')\n",
    "pth=os.path.dirname(file)\n",
    "extension = os.path.splitext(file)[1]\n",
    "filename = os.path.splitext(file)[0]\n",
    "files = glob.glob(os.path.join(pth, '*.xls*'))\n"
   ]
  },
  {
   "cell_type": "code",
   "execution_count": 4,
   "metadata": {},
   "outputs": [
    {
     "name": "stdout",
     "output_type": "stream",
     "text": [
      "File Path Ergebnis: C:\\Users\\VHZYHDG\\Desktop\\Excel_Splitter_Combiner\\Auto\\Ergebnis\\\n"
     ]
    }
   ],
   "source": [
    "ergebnis_file=input('File Path Ergebnis: ')\n",
    "ergpth=os.path.dirname(ergebnis_file)\n",
    "extension = os.path.splitext(ergebnis_file)[1]\n",
    "filename = os.path.splitext(ergebnis_file)[0]\n",
    "ergfiles = glob.glob(os.path.join(ergpth, '*.xls*'))"
   ]
  },
  {
   "cell_type": "code",
   "execution_count": 5,
   "metadata": {},
   "outputs": [
    {
     "name": "stdout",
     "output_type": "stream",
     "text": [
      "C:\\Users\\VHZYHDG\\Desktop\\Excel_Splitter_Combiner\\Auto\n",
      "C:\\Users\\VHZYHDG\\Desktop\\Excel_Splitter_Combiner\\Auto\\Ergebnis\n"
     ]
    }
   ],
   "source": [
    "print (pth)\n",
    "print (ergpth)"
   ]
  },
  {
   "cell_type": "code",
   "execution_count": 7,
   "metadata": {},
   "outputs": [
    {
     "name": "stderr",
     "output_type": "stream",
     "text": [
      "<ipython-input-7-f6a10ab1cea4>:3: DeprecationWarning: Call to deprecated function get_sheet_by_name (Use wb[sheetname]).\n",
      "  sheet1 = wb1.get_sheet_by_name('Kandidaten')\n"
     ]
    }
   ],
   "source": [
    "for f1 in ergfiles:\n",
    "    wb1 = openpyxl.load_workbook(str(f1))\n",
    "    sheet1 = wb1.get_sheet_by_name('Kandidaten')\n",
    "    row1 = 8\n",
    "    column1 = 2\n",
    "    count1 = 1\n",
    "    for f in files:\n",
    "        wb = openpyxl.load_workbook(str(f), data_only=True)\n",
    "        for sheet in wb:\n",
    "            #Read and Retrieve the values of the particular cells from different Excelsheets of different Excel file\n",
    "            D21 = sheet['D21'].value\n",
    "            D23 = sheet['D23'].value\n",
    "            D24 = sheet['D24'].value\n",
    "            D25 = sheet['D25'].value\n",
    "            D26 = sheet['D26'].value\n",
    "            D27 = sheet['D27'].value\n",
    "            D28 = sheet['D28'].value\n",
    "            D29 = sheet['D29'].value\n",
    "            D30 = sheet['D30'].value\n",
    "            D47 = sheet['D47'].value\n",
    "            D48 = sheet['D48'].value\n",
    "            D49 = sheet['D49'].value\n",
    "            D50 = str(sheet['D50'].value) + str(sheet['D51'].value) + str(sheet['D52'].value)\n",
    "            D38 = sheet['D38'].value\n",
    "            D31 = sheet['D31'].value\n",
    "            D32 = sheet['D32'].value\n",
    "            D33 = sheet['D33'].value\n",
    "            D34 = sheet['D34'].value\n",
    "            D35 = sheet['D35'].value\n",
    "            D36 = sheet['D36'].value\n",
    "            D39 = sheet['D39'].value\n",
    "            D44 = sheet['D44'].value\n",
    "            \n",
    "            #Writ the values to the particular cells of a targe Excel sheet of different file            \n",
    "            sheet1.cell(row=row1, column=column1, value='ET')\n",
    "            column1 = column1 + 1\n",
    "            sheet1.cell(row=row1, column=column1, value=count1)\n",
    "            column1 = column1 + 1\n",
    "            sheet1.cell(row=row1, column=column1, value=D21)\n",
    "            column1 = column1 + 2\n",
    "            sheet1.cell(row=row1, column=column1, value=D23)\n",
    "            column1 = column1 + 1\n",
    "            sheet1.cell(row=row1, column=column1, value=D24)\n",
    "            column1 = column1 + 1\n",
    "            sheet1.cell(row=row1, column=column1, value=D25)\n",
    "            column1 = column1 + 1\n",
    "            sheet1.cell(row=row1, column=column1, value=D26)\n",
    "            column1 = column1 + 1\n",
    "            sheet1.cell(row=row1, column=column1, value=D27)\n",
    "            column1 = column1 + 1\n",
    "            sheet1.cell(row=row1, column=column1, value=D28)\n",
    "            column1 = column1 + 1\n",
    "            sheet1.cell(row=row1, column=column1, value=D29)\n",
    "            column1 = column1 + 1\n",
    "            sheet1.cell(row=row1, column=column1, value=D30)\n",
    "            column1 = column1 + 1\n",
    "            sheet1.cell(row=row1, column=column1, value=D47)\n",
    "            column1 = column1 + 1\n",
    "            sheet1.cell(row=row1, column=column1, value=D48)\n",
    "            column1 = column1 + 1\n",
    "            sheet1.cell(row=row1, column=column1, value=D49)\n",
    "            column1 = column1 + 1\n",
    "            sheet1.cell(row=row1, column=column1, value=D50)\n",
    "            column1 = column1 + 1\n",
    "            sheet1.cell(row=row1, column=column1, value=D38)\n",
    "            column1 = column1 + 1\n",
    "            sheet1.cell(row=row1, column=column1, value=D31)\n",
    "            column1 = column1 + 1\n",
    "            sheet1.cell(row=row1, column=column1, value=D32)\n",
    "            column1 = column1 + 1\n",
    "            sheet1.cell(row=row1, column=column1, value=D33)\n",
    "            column1 = column1 + 1\n",
    "            sheet1.cell(row=row1, column=column1, value=D34)\n",
    "            column1 = column1 + 1\n",
    "            sheet1.cell(row=row1, column=column1, value=D35)\n",
    "            column1 = column1 + 1\n",
    "            sheet1.cell(row=row1, column=column1, value=D36)\n",
    "            column1 = column1 + 1\n",
    "            sheet1.cell(row=row1, column=column1, value=D39)\n",
    "            column1 = column1 + 1\n",
    "            sheet1.cell(row=row1, column=column1, value=D44)\n",
    "            row1 = row1 + 1\n",
    "            column1 = 2\n",
    "            count1 = count1 + 1\n",
    "    #Save the Target file\n",
    "    wb1.save(str(f1)) \n",
    "        \n"
   ]
  },
  {
   "cell_type": "code",
   "execution_count": null,
   "metadata": {},
   "outputs": [],
   "source": []
  }
 ],
 "metadata": {
  "kernelspec": {
   "display_name": "Python 3",
   "language": "python",
   "name": "python3"
  },
  "language_info": {
   "codemirror_mode": {
    "name": "ipython",
    "version": 3
   },
   "file_extension": ".py",
   "mimetype": "text/x-python",
   "name": "python",
   "nbconvert_exporter": "python",
   "pygments_lexer": "ipython3",
   "version": "3.8.3"
  }
 },
 "nbformat": 4,
 "nbformat_minor": 4
}
